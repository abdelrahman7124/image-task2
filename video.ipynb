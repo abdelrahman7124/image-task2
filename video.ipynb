{
 "cells": [
  {
   "cell_type": "code",
   "execution_count": 2,
   "metadata": {},
   "outputs": [],
   "source": [
    "import cv2\n",
    "import numpy as np"
   ]
  },
  {
   "cell_type": "code",
   "execution_count": 13,
   "metadata": {},
   "outputs": [],
   "source": [
    "video_path = \"images/ImageSess2.mp4\"  "
   ]
  },
  {
   "cell_type": "code",
   "execution_count": 56,
   "metadata": {},
   "outputs": [],
   "source": [
    "vid = cv2.VideoCapture(video_path)  \n",
    "while True:    \n",
    "    ret, frame = vid.read()\n",
    "\n",
    "    if not ret:\n",
    "       break\n",
    "   \n",
    "    #applying median blur\n",
    "    frame=cv2.medianBlur(frame,5)\n",
    "    #sharpenning the image\n",
    "    blur=cv2.GaussianBlur(frame,(13,13),100)\n",
    "    edges=cv2.subtract(frame,blur)\n",
    "    sharpen_factor=25\n",
    "    sharpened_img=cv2.add(frame,edges*sharpen_factor) \n",
    "    \n",
    "    #extracting orange color\n",
    "    hsv = cv2.cvtColor(sharpened_img,cv2.COLOR_BGR2HSV)\n",
    "    lower = np.array([10,100,20])\n",
    "    upper = np.array([25,255,255])\n",
    "    mask = cv2.inRange(hsv, lower, upper)\n",
    "    result_image = cv2.bitwise_and(sharpened_img, sharpened_img, mask=mask)\n",
    "\n",
    "    cv2.imshow('extracted',result_image)\n",
    "    if cv2.waitKey(30) & 0xFF == ord('q'):\n",
    "        break\n",
    "\n",
    "\n",
    "vid.release()\n",
    "\n",
    "cv2.destroyAllWindows()"
   ]
  }
 ],
 "metadata": {
  "kernelspec": {
   "display_name": "Python 3",
   "language": "python",
   "name": "python3"
  },
  "language_info": {
   "codemirror_mode": {
    "name": "ipython",
    "version": 3
   },
   "file_extension": ".py",
   "mimetype": "text/x-python",
   "name": "python",
   "nbconvert_exporter": "python",
   "pygments_lexer": "ipython3",
   "version": "3.12.5"
  }
 },
 "nbformat": 4,
 "nbformat_minor": 2
}
